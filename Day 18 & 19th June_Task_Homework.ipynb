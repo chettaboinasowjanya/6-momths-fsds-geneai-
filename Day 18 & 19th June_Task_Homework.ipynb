{
 "cells": [
  {
   "cell_type": "code",
   "execution_count": 4,
   "id": "42539934-24ba-4632-bbf2-59f3c804f81b",
   "metadata": {},
   "outputs": [
    {
     "name": "stdout",
     "output_type": "stream",
     "text": [
      "25\n"
     ]
    }
   ],
   "source": [
    "##variable_name = value\n",
    "Using Interge(int)\n",
    "age = 25\n",
    "print(age) #here 'age' is a variable and it stores an integer value 25  "
   ]
  },
  {
   "cell_type": "markdown",
   "id": "b406eb83-2b3e-4c29-85f3-54c4eaad7d49",
   "metadata": {},
   "source": [
    "Using String Variable"
   ]
  },
  {
   "cell_type": "code",
   "execution_count": 5,
   "id": "212d30e7-912a-4e9c-a25f-f8747991aaae",
   "metadata": {},
   "outputs": [
    {
     "name": "stdout",
     "output_type": "stream",
     "text": [
      "Sowjanya\n"
     ]
    }
   ],
   "source": [
    "name = \"Sowjanya\" #here name is variable and storing the string is \"sowjanya\", and string can be a '' or \"\" or \"\"\"\n",
    "\n",
    "print(name)"
   ]
  },
  {
   "cell_type": "markdown",
   "id": "4a534612-7cc4-44e5-b5c9-5df97a5c6efe",
   "metadata": {},
   "source": [
    "Using Float Variable::"
   ]
  },
  {
   "cell_type": "code",
   "execution_count": 6,
   "id": "b75dd642-f7bf-4447-bcd9-40cda7850c6d",
   "metadata": {},
   "outputs": [
    {
     "name": "stdout",
     "output_type": "stream",
     "text": [
      "18.99\n"
     ]
    }
   ],
   "source": [
    "price = 18.99 ##Here 'price' is the variable and no. is the floating point\n",
    "print(price)"
   ]
  },
  {
   "cell_type": "markdown",
   "id": "5719c647-0bb0-48b0-8163-30ad6ff71084",
   "metadata": {},
   "source": [
    "Using Boolean Variable"
   ]
  },
  {
   "cell_type": "code",
   "execution_count": 8,
   "id": "ace726bf-490b-4387-b5f7-92a994579f5c",
   "metadata": {},
   "outputs": [
    {
     "name": "stdout",
     "output_type": "stream",
     "text": [
      "True\n"
     ]
    }
   ],
   "source": [
    "is_active = True ## Here is_active is the variable and True/False is the Boolean value\n",
    "print(is_active)"
   ]
  },
  {
   "cell_type": "markdown",
   "id": "9b234fda-072e-4334-b240-7c15ee600246",
   "metadata": {},
   "source": [
    "Storing and Printing the Values"
   ]
  },
  {
   "cell_type": "code",
   "execution_count": null,
   "id": "15aa6ba1-97b0-44c1-bba9-015759d5da08",
   "metadata": {},
   "outputs": [],
   "source": [
    "# storing the value 20 in variable called 'x'"
   ]
  },
  {
   "cell_type": "code",
   "execution_count": 9,
   "id": "9b99a8dd-632b-46e6-913e-186dd480450e",
   "metadata": {},
   "outputs": [
    {
     "name": "stdout",
     "output_type": "stream",
     "text": [
      "20\n"
     ]
    }
   ],
   "source": [
    "x = 20  ## Now printing the value 'x'\n",
    "\n",
    "print(x)"
   ]
  },
  {
   "cell_type": "markdown",
   "id": "4820b20e-7992-4084-a48a-3329973c789d",
   "metadata": {},
   "source": [
    "Using Variable in Expression"
   ]
  },
  {
   "cell_type": "code",
   "execution_count": 18,
   "id": "099e4237-d0f2-436c-aa57-e4b538140d42",
   "metadata": {},
   "outputs": [
    {
     "name": "stdout",
     "output_type": "stream",
     "text": [
      "30\n"
     ]
    }
   ],
   "source": [
    "#**PYTHON**\n",
    "\n",
    "## Assigning the values to the variables::\n",
    "\n",
    "a = 10\n",
    "b = 20\n",
    "\n",
    "#Now adding the two variables(a,b) and storing the result in 'result'\n",
    "\n",
    "result = a + b\n",
    "\n",
    "# Printing the result \n",
    "\n",
    "print(result)"
   ]
  },
  {
   "cell_type": "markdown",
   "id": "c52b9f86-c3d4-4b75-ab7c-995dd6ddd7b8",
   "metadata": {},
   "source": [
    "## changing the value of a Variable"
   ]
  },
  {
   "cell_type": "code",
   "execution_count": 20,
   "id": "7fc91a93-8c3d-4d18-acad-36206d5c31e1",
   "metadata": {},
   "outputs": [
    {
     "name": "stdout",
     "output_type": "stream",
     "text": [
      "60\n"
     ]
    }
   ],
   "source": [
    "# Initial value\n",
    "score = 60\n",
    "print(score)"
   ]
  },
  {
   "cell_type": "code",
   "execution_count": 21,
   "id": "6966c787-97f8-4edf-b884-b4ac06e5df16",
   "metadata": {},
   "outputs": [
    {
     "name": "stdout",
     "output_type": "stream",
     "text": [
      "80\n"
     ]
    }
   ],
   "source": [
    "# changing the value of score\n",
    "score = 80\n",
    "print(score)"
   ]
  },
  {
   "cell_type": "markdown",
   "id": "0b2f8dcf-5954-4db9-bedc-d27c91b213ce",
   "metadata": {},
   "source": [
    "# **Concatenating Strings"
   ]
  },
  {
   "cell_type": "code",
   "execution_count": 28,
   "id": "f83f4c1e-df4e-4601-a41c-3bf61e8c5029",
   "metadata": {},
   "outputs": [
    {
     "name": "stdout",
     "output_type": "stream",
     "text": [
      "ch sow\n"
     ]
    }
   ],
   "source": [
    "# assigning alues to the variables\n",
    "\n",
    "first_name = \"ch\"\n",
    "last_name = \"sow\"\n",
    "# Concatenating strongs and storing in a new variable \n",
    "full_name = first_name + \" \" + last_name\n",
    "print(full_name)"
   ]
  },
  {
   "cell_type": "markdown",
   "id": "7cc308d2-399e-4b38-8a6b-9f0814c66ee7",
   "metadata": {},
   "source": [
    "Using variables in a calculations::"
   ]
  },
  {
   "cell_type": "code",
   "execution_count": 29,
   "id": "4cc17685-9fa4-4747-91df-99bed0d205b3",
   "metadata": {},
   "outputs": [
    {
     "name": "stdout",
     "output_type": "stream",
     "text": [
      "250\n"
     ]
    }
   ],
   "source": [
    "# Assigning values to variables \n",
    "\n",
    "length = 25\n",
    "width = 10\n",
    "\n",
    "# Now calculating the area of the rectangle\n",
    "\n",
    "area = length * width\n",
    "print(area)"
   ]
  },
  {
   "cell_type": "raw",
   "id": "10380bfb-ced8-4f34-96b1-2ca70d0cd08f",
   "metadata": {},
   "source": [
    "Re-assigning values to the variables::\n",
    "\n",
    "# Python can reassign a variable to a new value at any time."
   ]
  },
  {
   "cell_type": "code",
   "execution_count": 30,
   "id": "b5ab6c28-2d0d-4a0c-be51-dea2d1d60e06",
   "metadata": {},
   "outputs": [
    {
     "name": "stdout",
     "output_type": "stream",
     "text": [
      "15\n"
     ]
    }
   ],
   "source": [
    "x = 15 # x is a variable and 15 is value\n",
    "print(x)"
   ]
  },
  {
   "cell_type": "code",
   "execution_count": 31,
   "id": "7716f971-964e-4f37-bee7-db01fac396ce",
   "metadata": {},
   "outputs": [
    {
     "name": "stdout",
     "output_type": "stream",
     "text": [
      "25\n"
     ]
    }
   ],
   "source": [
    "# now\n",
    "x = 25 # so, we can use the variable as same and the new values should be reassign to same variable\n",
    "print(x)"
   ]
  },
  {
   "cell_type": "code",
   "execution_count": null,
   "id": "9c6786b1-fd8e-495d-9697-dff5fc59c331",
   "metadata": {},
   "outputs": [],
   "source": [
    " ## Note::Variables are dynamic, meaning their type is automatically determined by the value assigned to them, and they can change type during execution."
   ]
  },
  {
   "cell_type": "code",
   "execution_count": null,
   "id": "37fa1b1a-a840-4303-971f-4ac0b7747375",
   "metadata": {},
   "outputs": [],
   "source": []
  }
 ],
 "metadata": {
  "kernelspec": {
   "display_name": "Python [conda env:base] *",
   "language": "python",
   "name": "conda-base-py"
  },
  "language_info": {
   "codemirror_mode": {
    "name": "ipython",
    "version": 3
   },
   "file_extension": ".py",
   "mimetype": "text/x-python",
   "name": "python",
   "nbconvert_exporter": "python",
   "pygments_lexer": "ipython3",
   "version": "3.12.7"
  }
 },
 "nbformat": 4,
 "nbformat_minor": 5
}
