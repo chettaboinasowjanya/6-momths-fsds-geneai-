{
 "cells": [
  {
   "cell_type": "markdown",
   "id": "e46411f2-66d3-420e-a9e2-7d0ca237d622",
   "metadata": {},
   "source": [
    "# String.py"
   ]
  },
  {
   "cell_type": "code",
   "execution_count": null,
   "id": "7404bb5d-2e6b-4202-9493-fd4093a394f1",
   "metadata": {},
   "outputs": [],
   "source": [
    "# single line comment:: A String could be a single character or a bunch of texts"
   ]
  },
  {
   "cell_type": "code",
   "execution_count": 2,
   "id": "2f35fe03-d8d2-43dc-8c75-2f998ddc9f66",
   "metadata": {},
   "outputs": [
    {
     "name": "stdout",
     "output_type": "stream",
     "text": [
      "S\n",
      "1\n"
     ]
    }
   ],
   "source": [
    "letter = 'S'\n",
    "print(letter)\n",
    "print(len(letter))"
   ]
  },
  {
   "cell_type": "code",
   "execution_count": 4,
   "id": "1f8965d2-b6cd-4c29-9d46-a25358ae0491",
   "metadata": {},
   "outputs": [
    {
     "name": "stdout",
     "output_type": "stream",
     "text": [
      "Hai, Sir!\n",
      "9\n"
     ]
    }
   ],
   "source": [
    "greeting = 'Hai, Sir!'\n",
    "print(greeting)\n",
    "print(len(greeting))"
   ]
  },
  {
   "cell_type": "code",
   "execution_count": 9,
   "id": "a4c81b5a-9de4-4e34-a83d-fc0f55a947c6",
   "metadata": {},
   "outputs": [
    {
     "name": "stdout",
     "output_type": "stream",
     "text": [
      "I Hope you are doing good Sir\n"
     ]
    }
   ],
   "source": [
    "sentence = 'I Hope you are doing good Sir'\n",
    "print(sentence)"
   ]
  },
  {
   "cell_type": "markdown",
   "id": "baa8ef4f-e5af-4b7e-9f9d-dc07dc4ae4e1",
   "metadata": {},
   "source": [
    "Using Multiline String"
   ]
  },
  {
   "cell_type": "code",
   "execution_count": 11,
   "id": "7f62f666-5ff0-41e1-8d80-073981516c09",
   "metadata": {},
   "outputs": [
    {
     "name": "stdout",
     "output_type": "stream",
     "text": [
      "I am a student, learning Data Science. i am enjoying this course and your teaching is very nice, that we enjoying and learning the course.\n"
     ]
    }
   ],
   "source": [
    "multiline_string = \"\"\"I am a student, learning Data Science. i am enjoying this course and your teaching is very nice, that we enjoying and learning the course.\"\"\"\n",
    "print(multiline_string)"
   ]
  },
  {
   "cell_type": "code",
   "execution_count": 16,
   "id": "d022e35a-27e6-474d-ac00-db093b09bfee",
   "metadata": {
    "jupyter": {
     "source_hidden": true
    }
   },
   "outputs": [
    {
     "name": "stdout",
     "output_type": "stream",
     "text": [
      "I am a student, learning Data Science. i am enjoying this course and your teaching is very nice, that we enjoying and learning the course.\n"
     ]
    }
   ],
   "source": [
    "multiline_string = '''I am a student, learning Data Science. i am enjoying this course and your teaching is very nice, that we enjoying and learning the course.'''\n",
    "print(multiline_string)"
   ]
  },
  {
   "cell_type": "markdown",
   "id": "9871bb07-8a5a-4350-be5d-b1e0f9351efe",
   "metadata": {},
   "source": [
    "## String Concatenation"
   ]
  },
  {
   "cell_type": "code",
   "execution_count": 17,
   "id": "15702ffb-0b61-4d9e-921b-5d0faba4ed04",
   "metadata": {},
   "outputs": [
    {
     "name": "stdout",
     "output_type": "stream",
     "text": [
      "Chettaboina Sowjanya\n"
     ]
    }
   ],
   "source": [
    "first_name = 'Chettaboina'\n",
    "last_name = 'Sowjanya'\n",
    "space = ' '\n",
    "full_name = first_name + space + last_name\n",
    "print(full_name)"
   ]
  },
  {
   "cell_type": "code",
   "execution_count": null,
   "id": "bf818d8f-250e-4118-9dde-76beae4fee18",
   "metadata": {},
   "outputs": [],
   "source": [
    "## checking length of a string using len() Built-in Function"
   ]
  },
  {
   "cell_type": "code",
   "execution_count": 20,
   "id": "624f6fe3-63f8-4d5a-8180-fcdf6a79a74d",
   "metadata": {},
   "outputs": [
    {
     "name": "stdout",
     "output_type": "stream",
     "text": [
      "11\n",
      "8\n",
      "20\n"
     ]
    }
   ],
   "source": [
    "print(len(first_name))\n",
    "print(len(last_name))\n",
    "print(len(first_name))>len(last_name))\n",
    "print(len(full_name))"
   ]
  },
  {
   "cell_type": "code",
   "execution_count": 21,
   "id": "bcfd193c-c528-4bf7-87e4-9e3470cb2f6e",
   "metadata": {},
   "outputs": [
    {
     "name": "stdout",
     "output_type": "stream",
     "text": [
      "P\n",
      "y\n",
      "t\n",
      "h\n",
      "o\n",
      "n\n"
     ]
    }
   ],
   "source": [
    "## Unpacking characters\n",
    "language = 'Python'\n",
    "a,b,c,d,e,f = language ## unpacking sequence characters into variables\n",
    "print(a)\n",
    "print(b)\n",
    "print(c)\n",
    "print(d)\n",
    "print(e)\n",
    "print(f)"
   ]
  },
  {
   "cell_type": "code",
   "execution_count": 24,
   "id": "d027d492-f69a-4258-87b5-6645bd0ffcb1",
   "metadata": {},
   "outputs": [
    {
     "name": "stdout",
     "output_type": "stream",
     "text": [
      "P\n",
      "y\n",
      "n\n"
     ]
    }
   ],
   "source": [
    "## Accessing characters in strings by index\n",
    "language = 'Python'\n",
    "first_letter = language[0]\n",
    "print(first_letter)\n",
    "\n",
    "second_letter = language[1]\n",
    "print(second_letter)\n",
    "\n",
    "last_index = len(language)-1\n",
    "last_letter = language[last_index]\n",
    "print(last_letter)"
   ]
  },
  {
   "cell_type": "code",
   "execution_count": 25,
   "id": "b61af24e-b0e4-4a55-b81c-aa401e559630",
   "metadata": {},
   "outputs": [
    {
     "name": "stdout",
     "output_type": "stream",
     "text": [
      "n\n",
      "o\n"
     ]
    }
   ],
   "source": [
    "# If we want to start from right end then we can use -ve indexing. -1 is the last index\n",
    "language = 'Python'\n",
    "last_letter = language[-1]\n",
    "print(last_letter)\n",
    "second_letter = language[-2]\n",
    "print(second_letter)"
   ]
  },
  {
   "cell_type": "markdown",
   "id": "c7a93e89-9f3b-49f5-9b50-4b1a502e60a6",
   "metadata": {},
   "source": [
    "# Slicing"
   ]
  },
  {
   "cell_type": "code",
   "execution_count": 31,
   "id": "1fd7a2f8-8801-4ce8-a6d2-6b93ed4c7178",
   "metadata": {},
   "outputs": [
    {
     "name": "stdout",
     "output_type": "stream",
     "text": [
      "hon\n",
      "hon\n",
      "hon\n"
     ]
    }
   ],
   "source": [
    "language == 'Python'\n",
    "first_three = language[0:3] #starts at zero index and upto 3 but not include 3\n",
    "last_three = language[3:6]\n",
    "print(last_three)\n",
    "\n",
    "#Using another way\n",
    "last_three = language[-3:]\n",
    "print(last_three)\n",
    "last_three = language[3:]\n",
    "print(last_three)"
   ]
  },
  {
   "cell_type": "code",
   "execution_count": 30,
   "id": "ae5e3543-3f5a-4775-bc92-b02168df3959",
   "metadata": {},
   "outputs": [
    {
     "name": "stdout",
     "output_type": "stream",
     "text": [
      "Pto\n"
     ]
    }
   ],
   "source": [
    "## Skipping character while splitting Python strings\n",
    "language = 'Python'\n",
    "pto = language[0:5:1]\n",
    "print(pto)"
   ]
  },
  {
   "cell_type": "code",
   "execution_count": 34,
   "id": "a93d6492-e3ab-4611-a273-66d7833c5a77",
   "metadata": {},
   "outputs": [
    {
     "name": "stdout",
     "output_type": "stream",
     "text": [
      "I am learning Python classes and sir teaching is very nice.\n",
      "Enjoying ? Yes\n",
      "Days\tTopics\tExercises\n",
      "Day 1\t3\t5\n",
      "Day 2\t3\t5\n",
      "Day 3\t3\t5\n",
      "Day 4\t3\t5\n",
      "This is a back slash symbol(\\)\n",
      "In every programming language it starts with\"Hello, world\"\n"
     ]
    }
   ],
   "source": [
    "# Escape \n",
    "print('I am learning Python classes and sir teaching is very nice.\\nEnjoying ? Yes') #line break\n",
    "print('Days\\tTopics\\tExercises')\n",
    "print('Day 1\\t3\\t5')\n",
    "print('Day 2\\t3\\t5')\n",
    "print('Day 3\\t3\\t5')\n",
    "print('Day 4\\t3\\t5')\n",
    "print('This is a back slash symbol(\\\\)') # to write a back slash\n",
    "print('In every programming language it starts with\\\"Hello, world\\\"')"
   ]
  },
  {
   "cell_type": "code",
   "execution_count": 40,
   "id": "2c320a6f-2feb-46f4-a739-ec8dd28a9787",
   "metadata": {},
   "outputs": [
    {
     "name": "stdout",
     "output_type": "stream",
     "text": [
      "Thirty days of python\n"
     ]
    }
   ],
   "source": [
    "## String Methods\n",
    "#capitalize(): Converts the first character the string to Capital Letters\n",
    "challenge = 'Thirty days of python'\n",
    "print(challenge.capitalize())"
   ]
  },
  {
   "cell_type": "code",
   "execution_count": 41,
   "id": "9b092329-3888-4306-a911-69ba486d36fb",
   "metadata": {},
   "outputs": [
    {
     "name": "stdout",
     "output_type": "stream",
     "text": [
      "3\n",
      "1\n",
      "1\n"
     ]
    }
   ],
   "source": [
    "# count(): returns occurences of substring  in string, count(substring,sstart=.., end=..)\n",
    "\n",
    "challenge = 'Thirty days of python'\n",
    "print(challenge.count('y'))\n",
    "print(challenge.count('y', 7, 14))\n",
    "print(challenge.count('th'))"
   ]
  },
  {
   "cell_type": "code",
   "execution_count": 43,
   "id": "9897769b-957c-46fb-b089-d0245106fd30",
   "metadata": {},
   "outputs": [
    {
     "name": "stdout",
     "output_type": "stream",
     "text": [
      "True\n",
      "False\n"
     ]
    }
   ],
   "source": [
    "# endswith(): checks if a string ends with a specified ending\n",
    "\n",
    "challenge = 'Thirty days of python'\n",
    "print(challenge.endswith('on'))\n",
    "print(challenge.endswith('tion'))"
   ]
  },
  {
   "cell_type": "code",
   "execution_count": 44,
   "id": "fe3b0d44-ed1d-4d03-a660-9096c99834da",
   "metadata": {},
   "outputs": [
    {
     "name": "stdout",
     "output_type": "stream",
     "text": [
      "thirty  days    of      python\n",
      "thirty    days      of        python\n"
     ]
    }
   ],
   "source": [
    "## expandtabs(): Replaces tab character with spaces, default tab size is 8. It takes tab size argument\n",
    "\n",
    "challenge = 'thirty\\tdays\\tof\\tpython'\n",
    "print(challenge.expandtabs())\n",
    "print(challenge.expandtabs(10))"
   ]
  },
  {
   "cell_type": "code",
   "execution_count": 47,
   "id": "318d0d6e-1a25-4fb3-8b65-f7f586389b86",
   "metadata": {},
   "outputs": [
    {
     "name": "stdout",
     "output_type": "stream",
     "text": [
      "5\n",
      "0\n"
     ]
    }
   ],
   "source": [
    "##find(): Returns the index of first occurence of substring\n",
    "\n",
    "challenge = 'thirty days of python'\n",
    "print(challenge.find('y'))\n",
    "print(challenge.find('th'))"
   ]
  },
  {
   "cell_type": "code",
   "execution_count": 53,
   "id": "7c27c9be-3a5b-4a13-b766-69e4f170f8a0",
   "metadata": {},
   "outputs": [
    {
     "name": "stdout",
     "output_type": "stream",
     "text": [
      "I am Ch Sowjanya. I am a learner. I live in India.\n"
     ]
    }
   ],
   "source": [
    "# format()  formats string into nicer output\n",
    "first_name = 'Ch'\n",
    "last_name = 'Sowjanya'\n",
    "job = 'learner'\n",
    "country = 'India'\n",
    "sentence = 'I am {} {}. I am a {}. I live in {}.'.format(first_name, last_name, job, country)\n",
    "print(sentence)  "
   ]
  },
  {
   "cell_type": "code",
   "execution_count": 60,
   "id": "da8ac108-4c34-4750-bbb4-b0eb59f130dd",
   "metadata": {},
   "outputs": [
    {
     "name": "stdout",
     "output_type": "stream",
     "text": [
      "The area of circle with 10 is 314.0\n"
     ]
    }
   ],
   "source": [
    "radius = 10\n",
    "pi = 3.14\n",
    "area = pi * radius ** 2\n",
    "result = 'The area of circle with {} is {}'.format(str(radius), str(area))\n",
    "print(result)"
   ]
  },
  {
   "cell_type": "code",
   "execution_count": 62,
   "id": "d0254823-3634-4799-ac3a-f1167de6ccc0",
   "metadata": {},
   "outputs": [
    {
     "name": "stdout",
     "output_type": "stream",
     "text": [
      "5\n",
      "0\n"
     ]
    }
   ],
   "source": [
    "# index(): Returns the index of substring\n",
    "challenge = 'thirty days of python'\n",
    "print(challenge.find('y'))\n",
    "print(challenge.find('th'))"
   ]
  },
  {
   "cell_type": "code",
   "execution_count": 63,
   "id": "910782f7-69a3-4406-8b67-90129b21b9a2",
   "metadata": {},
   "outputs": [
    {
     "name": "stdout",
     "output_type": "stream",
     "text": [
      "True\n"
     ]
    }
   ],
   "source": [
    " # isalnum(): checks alphanumeric character\n",
    "\n",
    "challenge = 'ThirtyDaysPython'\n",
    "print(challenge.isalnum())"
   ]
  },
  {
   "cell_type": "code",
   "execution_count": 64,
   "id": "eb2e255a-5e8b-46e2-8f87-36cd2effac0c",
   "metadata": {},
   "outputs": [
    {
     "name": "stdout",
     "output_type": "stream",
     "text": [
      "True\n"
     ]
    }
   ],
   "source": [
    "challenge = '30DaysPython'\n",
    "print(challenge.isalnum())"
   ]
  },
  {
   "cell_type": "code",
   "execution_count": 65,
   "id": "c011d4b4-2127-4b0a-9a69-d4f87c741258",
   "metadata": {},
   "outputs": [
    {
     "name": "stdout",
     "output_type": "stream",
     "text": [
      "False\n"
     ]
    }
   ],
   "source": [
    "challenge = 'Thirty Days of Python 2025'\n",
    "print(challenge.isalnum())"
   ]
  },
  {
   "cell_type": "code",
   "execution_count": 69,
   "id": "2b107f19-c578-4689-86e2-00face9311a9",
   "metadata": {},
   "outputs": [
    {
     "name": "stdout",
     "output_type": "stream",
     "text": [
      "False\n",
      "False\n"
     ]
    }
   ],
   "source": [
    "# isalpha(): checks if all characters are alphabets\n",
    "\n",
    "challenge = 'thirty days of Python'\n",
    "print(challenge.isalpha())\n",
    "num = '123'\n",
    "print(num.isalpha())"
   ]
  },
  {
   "cell_type": "code",
   "execution_count": 70,
   "id": "015aaf83-1872-4453-a7b5-04d0f7223e7c",
   "metadata": {},
   "outputs": [
    {
     "name": "stdout",
     "output_type": "stream",
     "text": [
      "5\n",
      "0\n"
     ]
    }
   ],
   "source": [
    "# isdecimal(): Checks Decimal characters\n",
    "\n",
    "challenge = 'thirty days of Python'\n",
    "print(challenge.find('y'))\n",
    "print(challenge.find('th'))"
   ]
  },
  {
   "cell_type": "code",
   "execution_count": 76,
   "id": "b7da40c4-a9f6-4a6e-9b89-1882020854eb",
   "metadata": {},
   "outputs": [
    {
     "name": "stdout",
     "output_type": "stream",
     "text": [
      "False\n",
      "False\n"
     ]
    }
   ],
   "source": [
    "# isdigit(): Checks Digit characters\n",
    "\n",
    "challenge = 'Thirty'\n",
    "print(challenge.isdigit())\n",
    "challenge = '30.0'\n",
    "print(challenge.isdigit())\n"
   ]
  },
  {
   "cell_type": "code",
   "execution_count": 78,
   "id": "b8cba031-3886-4cfc-b457-e3badaf78156",
   "metadata": {},
   "outputs": [
    {
     "name": "stdout",
     "output_type": "stream",
     "text": [
      "True\n",
      "False\n"
     ]
    }
   ],
   "source": [
    "# isdecimal(): checks decimal characters\n",
    "\n",
    "num = '10'\n",
    "print(num.isdecimal())\n",
    "num = '10.5'\n",
    "print(num.isdecimal())"
   ]
  },
  {
   "cell_type": "code",
   "execution_count": 80,
   "id": "23de6bc3-3b7d-478d-92a6-803aee572354",
   "metadata": {},
   "outputs": [
    {
     "name": "stdout",
     "output_type": "stream",
     "text": [
      "False\n",
      "True\n"
     ]
    }
   ],
   "source": [
    "# isidentifier(): checks for valid identifier means it check if a string is a valid variable\n",
    "\n",
    "challenge = '30DaysOfPython'  # this should be starting with a number, so, the output should be false.\n",
    "print(challenge.isidentifier()) \n",
    "challenge = 'thirty_Days_Of_Python' \n",
    "print(challenge.isidentifier()) "
   ]
  },
  {
   "cell_type": "code",
   "execution_count": 82,
   "id": "eb166586-795f-4989-aab6-63ea04f5482c",
   "metadata": {},
   "outputs": [
    {
     "name": "stdout",
     "output_type": "stream",
     "text": [
      "True\n",
      "False\n"
     ]
    }
   ],
   "source": [
    "# islower(): Checks if all alphabets in a string are lowercase\n",
    "\n",
    "challenge = 'thirty days of python'\n",
    "print(challenge.islower()) \n",
    "challenge = 'Thirty days of python'\n",
    "print(challenge.islower()) "
   ]
  },
  {
   "cell_type": "code",
   "execution_count": 84,
   "id": "5c057e89-818b-4bb8-8b66-a07429d19360",
   "metadata": {},
   "outputs": [
    {
     "name": "stdout",
     "output_type": "stream",
     "text": [
      "False\n",
      "True\n"
     ]
    }
   ],
   "source": [
    "# isupper(): returns if all characters are uppercase characters.\n",
    "\n",
    "challenge = 'thirty days of python'\n",
    "print(challenge.isupper()) \n",
    "challenge = 'THIRTY DAYS OF PYTHON'\n",
    "print(challenge.isupper()) "
   ]
  },
  {
   "cell_type": "code",
   "execution_count": 85,
   "id": "1ae5a0fd-4979-4cb7-bbc9-7ca9cfa6633a",
   "metadata": {},
   "outputs": [
    {
     "name": "stdout",
     "output_type": "stream",
     "text": [
      "True\n",
      "False\n"
     ]
    }
   ],
   "source": [
    "# isnumeric():checks numeric characters\n",
    "\n",
    "num = '20'\n",
    "print(num.isnumeric())\n",
    "print('ten'.isnumeric())"
   ]
  },
  {
   "cell_type": "code",
   "execution_count": 94,
   "id": "060f7300-5eac-4000-a2da-91867a334376",
   "metadata": {},
   "outputs": [
    {
     "name": "stdout",
     "output_type": "stream",
     "text": [
      "HTML# ,CSS# ,JavaScript\n"
     ]
    }
   ],
   "source": [
    "# join(): Returns a concatenated strig\n",
    "\n",
    "web_tech = ['HTML', 'CSS', 'JavaScript']\n",
    "result = '# ,'.join(web_tech)\n",
    "print(result)"
   ]
  },
  {
   "cell_type": "code",
   "execution_count": 91,
   "id": "796e8687-a500-4418-83ae-c3afee33cce2",
   "metadata": {},
   "outputs": [
    {
     "name": "stdout",
     "output_type": "stream",
     "text": [
      " thirty days of python\n"
     ]
    }
   ],
   "source": [
    "#strip(): Removes both leading and trailing characters\n",
    "\n",
    "challenge = ' thirty days of python'\n",
    "print(challenge.strip('y'))"
   ]
  },
  {
   "cell_type": "code",
   "execution_count": 93,
   "id": "2354a0a7-df40-4da1-8cfe-27ef79fc7122",
   "metadata": {},
   "outputs": [
    {
     "name": "stdout",
     "output_type": "stream",
     "text": [
      "thirty days of coding\n"
     ]
    }
   ],
   "source": [
    "# replace(): Replaces substring inside\n",
    "\n",
    "challenge = 'thirty days of python'\n",
    "print(challenge.replace('python','coding'))"
   ]
  },
  {
   "cell_type": "code",
   "execution_count": 96,
   "id": "2dc0405b-de08-4238-9060-a37ac4dc84e2",
   "metadata": {},
   "outputs": [
    {
     "name": "stdout",
     "output_type": "stream",
     "text": [
      "['thirty', 'days', 'of', 'python']\n",
      "['thirty', 'days of python']\n"
     ]
    }
   ],
   "source": [
    "#split(): Splits String from left\n",
    "\n",
    "challenge = 'thirty days of python'\n",
    "print(challenge.split())\n",
    "challenge = 'thirty days of python'\n",
    "print(challenge.split(' ',1))"
   ]
  },
  {
   "cell_type": "code",
   "execution_count": 97,
   "id": "03938265-80c0-4be5-a210-2302bfffbfc7",
   "metadata": {},
   "outputs": [
    {
     "name": "stdout",
     "output_type": "stream",
     "text": [
      "Thirty Days Of Python\n"
     ]
    }
   ],
   "source": [
    "# title(): Returns a Title Cased String\n",
    "\n",
    "challenge = 'thirty days of python'\n",
    "print(challenge.title())"
   ]
  },
  {
   "cell_type": "code",
   "execution_count": 98,
   "id": "c4227a67-1719-496d-9aad-71819b505118",
   "metadata": {},
   "outputs": [
    {
     "name": "stdout",
     "output_type": "stream",
     "text": [
      "THIRTY DAYS OF PYTHON\n",
      "tHIRTY dAYS OF pYTHON\n"
     ]
    }
   ],
   "source": [
    "# swapcase(): Checks if string starts with the specifies string\n",
    "\n",
    "challenge = 'thirty days of python'\n",
    "print(challenge.swapcase())\n",
    "challenge = 'Thirty Days of Python'\n",
    "print(challenge.swapcase())\n",
    "\n"
   ]
  },
  {
   "cell_type": "code",
   "execution_count": 99,
   "id": "6425c9ef-54ec-444f-b968-cb8ae070c8cd",
   "metadata": {},
   "outputs": [
    {
     "name": "stdout",
     "output_type": "stream",
     "text": [
      "True\n",
      "False\n"
     ]
    }
   ],
   "source": [
    "# startswith(): checks if string starts with the specifies string\n",
    "\n",
    "challenge = 'thirty days of python'\n",
    "print(challenge.startswith('thirty'))\n",
    "challenge = '30 Days of Python'\n",
    "print(challenge.startswith('thirrty'))"
   ]
  },
  {
   "cell_type": "code",
   "execution_count": null,
   "id": "9b79e398-5fb0-4c7c-ab20-bc6aa9937c19",
   "metadata": {},
   "outputs": [],
   "source": []
  },
  {
   "cell_type": "code",
   "execution_count": null,
   "id": "4ceed46d-a0f6-4f7f-ae9b-b0f9972b99db",
   "metadata": {},
   "outputs": [],
   "source": []
  }
 ],
 "metadata": {
  "kernelspec": {
   "display_name": "Python [conda env:base] *",
   "language": "python",
   "name": "conda-base-py"
  },
  "language_info": {
   "codemirror_mode": {
    "name": "ipython",
    "version": 3
   },
   "file_extension": ".py",
   "mimetype": "text/x-python",
   "name": "python",
   "nbconvert_exporter": "python",
   "pygments_lexer": "ipython3",
   "version": "3.12.7"
  }
 },
 "nbformat": 4,
 "nbformat_minor": 5
}
