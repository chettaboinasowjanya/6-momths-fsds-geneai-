{
 "cells": [
  {
   "cell_type": "markdown",
   "id": "f9ffc794-bd54-4644-bc32-7c48180120b6",
   "metadata": {},
   "source": [
    "# Variables in Python"
   ]
  },
  {
   "cell_type": "code",
   "execution_count": 3,
   "id": "38557744-cb4a-4b18-aac8-9223839819b7",
   "metadata": {},
   "outputs": [
    {
     "name": "stdout",
     "output_type": "stream",
     "text": [
      "First name: ch\n",
      "First name length: 2\n",
      "Last name: Sowjanya\n",
      "Last name: 8\n",
      "Country: India\n",
      "City: HYD\n",
      "Age: 31\n",
      "Married: True\n",
      "Skills: ['HTML', 'JAVA', 'C+']\n",
      "Person information: {'firstname': 'ch', 'lastname': 'sow', 'country': 'india', 'city': 'Hyd'}\n"
     ]
    }
   ],
   "source": [
    "first_name = \"ch\"\n",
    "last_name = \"Sowjanya\"\n",
    "country = \"India\"\n",
    "city = \"HYD\"\n",
    "state = \"Telangana\"\n",
    "age = \"31\"\n",
    "is_married = \"True\"\n",
    "skills = [\"HTML\",\"JAVA\",\"C+\"]\n",
    "person_info = {\n",
    "    'firstname': 'ch',\n",
    "     'lastname':'sow',\n",
    "      'country':'india',\n",
    "      'city':'Hyd'\n",
    "      }\n",
    "    #printing the values stored in the variables\n",
    "print('First name:',first_name)\n",
    "print('First name length:',len(first_name))\n",
    "print('Last name:',last_name)\n",
    "print('Last name:',len(last_name))\n",
    "print('Country:',country)\n",
    "print('City:',city)\n",
    "print('Age:',age)\n",
    "print('Married:',is_married)\n",
    "print('Skills:',skills)\n",
    "print('Person information:',person_info)"
   ]
  },
  {
   "cell_type": "markdown",
   "id": "49e41124-f62c-4805-a8b0-49438f9e7571",
   "metadata": {},
   "source": [
    "# Declaring Multiple variables in one line"
   ]
  },
  {
   "cell_type": "code",
   "execution_count": 8,
   "id": "598a6029-eded-4bed-b53f-06249702e197",
   "metadata": {},
   "outputs": [
    {
     "name": "stdout",
     "output_type": "stream",
     "text": [
      "chettaboina Sowjanya India 31 True\n",
      "First name: chettaboina\n",
      "Last name: Sowjanya\n",
      "Country: India\n",
      "Age: 31\n",
      "Married: True\n"
     ]
    }
   ],
   "source": [
    "first_name, last_name, country, age, is_married = 'chettaboina','Sowjanya','India','31','True'\n",
    "\n",
    "print(first_name, last_name, country, age, is_married)\n",
    "print('First name:',first_name)      \n",
    "print('Last name:',last_name)\n",
    "print('Country:',country)\n",
    "print('Age:',age)\n",
    "print('Married:',is_married)"
   ]
  },
  {
   "cell_type": "markdown",
   "id": "441aefdb-f749-4d1b-9419-6d66d677a4fe",
   "metadata": {},
   "source": [
    "COMPLEX DATA TYPE"
   ]
  },
  {
   "cell_type": "code",
   "execution_count": 11,
   "id": "06cf5b6a-0d40-42f0-adc0-eff072283612",
   "metadata": {},
   "outputs": [
    {
     "name": "stdout",
     "output_type": "stream",
     "text": [
      "3.0\n",
      "4.0\n"
     ]
    }
   ],
   "source": [
    "# Creatig a Complex Number\n",
    " #z= real + imaginary * 1j\n",
    "z = 3+4j\n",
    "\n",
    "## Accessing the real and imaginary parts\n",
    "z = 3+4j\n",
    "print(z.real)\n",
    "print(z.imag)"
   ]
  },
  {
   "cell_type": "markdown",
   "id": "6ab961ed-dd41-475d-a83d-fe56b18b6a8b",
   "metadata": {},
   "source": [
    "Operations with Complex Numbers::"
   ]
  },
  {
   "cell_type": "code",
   "execution_count": 12,
   "id": "8a004422-eb57-4c17-8092-b25d693411b4",
   "metadata": {},
   "outputs": [
    {
     "name": "stdout",
     "output_type": "stream",
     "text": [
      "(4+8j)\n"
     ]
    }
   ],
   "source": [
    "a = 3 + 4j\n",
    "b = 1 + 4j\n",
    "\n",
    "#Addition\n",
    "print(a+b)"
   ]
  },
  {
   "cell_type": "code",
   "execution_count": 13,
   "id": "5ed5640f-b8af-4f66-8102-de12a1d959a4",
   "metadata": {},
   "outputs": [
    {
     "name": "stdout",
     "output_type": "stream",
     "text": [
      "(2+0j)\n"
     ]
    }
   ],
   "source": [
    "#Subtraction\n",
    "print(a-b)"
   ]
  },
  {
   "cell_type": "code",
   "execution_count": 14,
   "id": "c2403ff4-4741-4cc6-a19c-0f5d74dd0d3c",
   "metadata": {},
   "outputs": [
    {
     "name": "stdout",
     "output_type": "stream",
     "text": [
      "(-13+16j)\n"
     ]
    }
   ],
   "source": [
    "#Multiplication\n",
    "print(a*b)"
   ]
  },
  {
   "cell_type": "code",
   "execution_count": 15,
   "id": "09ce177d-f90b-4c52-92ef-f49fc1a95b70",
   "metadata": {},
   "outputs": [
    {
     "name": "stdout",
     "output_type": "stream",
     "text": [
      "(1.1176470588235294-0.47058823529411764j)\n"
     ]
    }
   ],
   "source": [
    "#Division\n",
    "print(a/b)"
   ]
  },
  {
   "cell_type": "markdown",
   "id": "bb92e894-64bf-4eef-9e94-d974de83cae0",
   "metadata": {},
   "source": [
    "Using In-Built Functions"
   ]
  },
  {
   "cell_type": "code",
   "execution_count": 16,
   "id": "400272bf-2da0-4901-acbd-cebaf76f7418",
   "metadata": {},
   "outputs": [
    {
     "name": "stdout",
     "output_type": "stream",
     "text": [
      "5.0\n"
     ]
    }
   ],
   "source": [
    "z = 3+4j\n",
    "print(abs(z))"
   ]
  },
  {
   "cell_type": "code",
   "execution_count": 21,
   "id": "fda5f48d-db9f-4189-9873-3e9a82e581b0",
   "metadata": {},
   "outputs": [
    {
     "name": "stdout",
     "output_type": "stream",
     "text": [
      "(3-4j)\n"
     ]
    }
   ],
   "source": [
    "print(z.conjugate())"
   ]
  },
  {
   "cell_type": "markdown",
   "id": "069cfc15-daf7-48fa-8d25-04c5c2375aff",
   "metadata": {},
   "source": [
    "Using Complex number in the cmath Module"
   ]
  },
  {
   "cell_type": "code",
   "execution_count": 22,
   "id": "173cc4c6-ecaf-40c0-a37b-a5c5ee731ad1",
   "metadata": {},
   "outputs": [
    {
     "name": "stdout",
     "output_type": "stream",
     "text": [
      "(1.4142135623730951, 0.7853981633974483)\n"
     ]
    }
   ],
   "source": [
    "import cmath\n",
    "z=1+1j\n",
    "print(cmath.polar(z)) ##this is the of  polar(magnitude and angle) form of the complex number"
   ]
  },
  {
   "cell_type": "code",
   "execution_count": 23,
   "id": "1047eb96-734b-4178-89b3-ad4b3c81ac1c",
   "metadata": {},
   "outputs": [
    {
     "name": "stdout",
     "output_type": "stream",
     "text": [
      "0.7853981633974483\n"
     ]
    }
   ],
   "source": [
    "print(cmath.phase(z)) ##here the phase(angle) form a complex number nothing but radians"
   ]
  },
  {
   "cell_type": "code",
   "execution_count": 24,
   "id": "521e5a33-f695-4a7c-9b0c-63cb06237f09",
   "metadata": {},
   "outputs": [
    {
     "name": "stdout",
     "output_type": "stream",
     "text": [
      "(1.09868411346781+0.45508986056222733j)\n"
     ]
    }
   ],
   "source": [
    "print(cmath.sqrt(z)) ##This is the square root of the complex number"
   ]
  },
  {
   "cell_type": "code",
   "execution_count": null,
   "id": "3ce105db-8066-41da-bc8a-1a95242d74f0",
   "metadata": {},
   "outputs": [],
   "source": []
  }
 ],
 "metadata": {
  "kernelspec": {
   "display_name": "Python [conda env:base] *",
   "language": "python",
   "name": "conda-base-py"
  },
  "language_info": {
   "codemirror_mode": {
    "name": "ipython",
    "version": 3
   },
   "file_extension": ".py",
   "mimetype": "text/x-python",
   "name": "python",
   "nbconvert_exporter": "python",
   "pygments_lexer": "ipython3",
   "version": "3.12.7"
  }
 },
 "nbformat": 4,
 "nbformat_minor": 5
}
