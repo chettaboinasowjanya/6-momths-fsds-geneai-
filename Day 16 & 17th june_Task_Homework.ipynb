{
 "cells": [
  {
   "cell_type": "code",
   "execution_count": 1,
   "id": "9b4e6240-ff56-4223-97ca-624865c1f9fa",
   "metadata": {},
   "outputs": [
    {
     "data": {
      "text/plain": [
       "4"
      ]
     },
     "execution_count": 1,
     "metadata": {},
     "output_type": "execute_result"
    }
   ],
   "source": [
    "2+2"
   ]
  },
  {
   "cell_type": "code",
   "execution_count": 2,
   "id": "452149f3-6999-4399-849e-5c66e3a9b4d4",
   "metadata": {},
   "outputs": [
    {
     "data": {
      "text/plain": [
       "20"
      ]
     },
     "execution_count": 2,
     "metadata": {},
     "output_type": "execute_result"
    }
   ],
   "source": [
    "50-5*6"
   ]
  },
  {
   "cell_type": "code",
   "execution_count": 3,
   "id": "a0c8f7ce-1782-49cc-9534-6133f8b0601d",
   "metadata": {},
   "outputs": [
    {
     "data": {
      "text/plain": [
       "5.0"
      ]
     },
     "execution_count": 3,
     "metadata": {},
     "output_type": "execute_result"
    }
   ],
   "source": [
    "(50-5*6)/4"
   ]
  },
  {
   "cell_type": "code",
   "execution_count": 4,
   "id": "86c932aa-c32b-4739-97d3-ca6ed0f6871a",
   "metadata": {},
   "outputs": [
    {
     "data": {
      "text/plain": [
       "1.6"
      ]
     },
     "execution_count": 4,
     "metadata": {},
     "output_type": "execute_result"
    }
   ],
   "source": [
    "8/5"
   ]
  },
  {
   "cell_type": "code",
   "execution_count": 5,
   "id": "cdaf72d4-624d-4340-99ed-d11b9db4502a",
   "metadata": {},
   "outputs": [
    {
     "data": {
      "text/plain": [
       "5.666666666666667"
      ]
     },
     "execution_count": 5,
     "metadata": {},
     "output_type": "execute_result"
    }
   ],
   "source": [
    "17/3 #classic division returns a float"
   ]
  },
  {
   "cell_type": "code",
   "execution_count": 6,
   "id": "8ab2de54-1c5e-465c-8ca6-33a184f36a0d",
   "metadata": {},
   "outputs": [
    {
     "data": {
      "text/plain": [
       "5"
      ]
     },
     "execution_count": 6,
     "metadata": {},
     "output_type": "execute_result"
    }
   ],
   "source": [
    "17//3 #floor division discards the fractional part"
   ]
  },
  {
   "cell_type": "code",
   "execution_count": 7,
   "id": "516990e0-2275-481d-b4a6-2ddc2ca1280a",
   "metadata": {},
   "outputs": [
    {
     "data": {
      "text/plain": [
       "2"
      ]
     },
     "execution_count": 7,
     "metadata": {},
     "output_type": "execute_result"
    }
   ],
   "source": [
    "17 % 3 # the % operates returns the remainder of the division"
   ]
  },
  {
   "cell_type": "code",
   "execution_count": 8,
   "id": "426db22c-b64a-4a6f-bc51-0a28fa4e9705",
   "metadata": {},
   "outputs": [
    {
     "data": {
      "text/plain": [
       "17"
      ]
     },
     "execution_count": 8,
     "metadata": {},
     "output_type": "execute_result"
    }
   ],
   "source": [
    "     5*3+2 #floored quotient * division + remainder "
   ]
  },
  {
   "cell_type": "markdown",
   "id": "b0418e2d-395b-4ead-a210-95589a522c60",
   "metadata": {},
   "source": [
    "USING THE ** OPERATOR"
   ]
  },
  {
   "cell_type": "code",
   "execution_count": 9,
   "id": "4f3d015b-afa1-400f-913e-6bae0fae0c4a",
   "metadata": {},
   "outputs": [
    {
     "data": {
      "text/plain": [
       "25"
      ]
     },
     "execution_count": 9,
     "metadata": {},
     "output_type": "execute_result"
    }
   ],
   "source": [
    "5**2 # 5 Squared"
   ]
  },
  {
   "cell_type": "code",
   "execution_count": 10,
   "id": "1a37d553-2b32-4661-b0c6-a1c22a9a0541",
   "metadata": {},
   "outputs": [
    {
     "data": {
      "text/plain": [
       "128"
      ]
     },
     "execution_count": 10,
     "metadata": {},
     "output_type": "execute_result"
    }
   ],
   "source": [
    "2**7 # 2 to the power of 7"
   ]
  },
  {
   "cell_type": "markdown",
   "id": "79358acc-7912-4d95-9d68-80f1046acf64",
   "metadata": {},
   "source": [
    "Using = sign"
   ]
  },
  {
   "cell_type": "code",
   "execution_count": 11,
   "id": "ed706de8-6afc-4b88-8e55-9c89445efa8d",
   "metadata": {},
   "outputs": [
    {
     "data": {
      "text/plain": [
       "600"
      ]
     },
     "execution_count": 11,
     "metadata": {},
     "output_type": "execute_result"
    }
   ],
   "source": [
    "width = 20\n",
    "height = 5*6\n",
    "width * height"
   ]
  },
  {
   "cell_type": "markdown",
   "id": "53a36c31-357b-4d25-8ace-9082a7a9a0ba",
   "metadata": {},
   "source": [
    "Using when variable is not \"defined\"(Assigned value)"
   ]
  },
  {
   "cell_type": "code",
   "execution_count": 12,
   "id": "d851eb9a-d542-424b-9072-b211db2258cb",
   "metadata": {},
   "outputs": [
    {
     "ename": "NameError",
     "evalue": "name 'n' is not defined",
     "output_type": "error",
     "traceback": [
      "\u001b[1;31m---------------------------------------------------------------------------\u001b[0m",
      "\u001b[1;31mNameError\u001b[0m                                 Traceback (most recent call last)",
      "Cell \u001b[1;32mIn[12], line 1\u001b[0m\n\u001b[1;32m----> 1\u001b[0m n\n",
      "\u001b[1;31mNameError\u001b[0m: name 'n' is not defined"
     ]
    }
   ],
   "source": [
    "n"
   ]
  },
  {
   "cell_type": "code",
   "execution_count": 13,
   "id": "9f0f7b59-a427-4d37-8c37-2fb593e7cc48",
   "metadata": {},
   "outputs": [
    {
     "data": {
      "text/plain": [
       "14.0"
      ]
     },
     "execution_count": 13,
     "metadata": {},
     "output_type": "execute_result"
    }
   ],
   "source": [
    "4 * 3.75 - 1"
   ]
  },
  {
   "cell_type": "code",
   "execution_count": 18,
   "id": "60b46301-9f65-44ca-a629-a70a841def4c",
   "metadata": {},
   "outputs": [
    {
     "data": {
      "text/plain": [
       "12.5625"
      ]
     },
     "execution_count": 18,
     "metadata": {},
     "output_type": "execute_result"
    }
   ],
   "source": [
    "tax = 12.5/100\n",
    "price = 100.5\n",
    "price * tax"
   ]
  },
  {
   "cell_type": "code",
   "execution_count": 19,
   "id": "ee563036-e339-4f8e-98b6-4c16ca23de40",
   "metadata": {},
   "outputs": [
    {
     "ename": "TypeError",
     "evalue": "unsupported operand type(s) for +: 'float' and 'str'",
     "output_type": "error",
     "traceback": [
      "\u001b[1;31m---------------------------------------------------------------------------\u001b[0m",
      "\u001b[1;31mTypeError\u001b[0m                                 Traceback (most recent call last)",
      "Cell \u001b[1;32mIn[19], line 1\u001b[0m\n\u001b[1;32m----> 1\u001b[0m price \u001b[38;5;241m+\u001b[39m _\n",
      "\u001b[1;31mTypeError\u001b[0m: unsupported operand type(s) for +: 'float' and 'str'"
     ]
    }
   ],
   "source": [
    "price + _"
   ]
  },
  {
   "cell_type": "code",
   "execution_count": 20,
   "id": "1d18dc0f-aad3-48f3-b29d-71a21f806e10",
   "metadata": {},
   "outputs": [
    {
     "ename": "TypeError",
     "evalue": "type str doesn't define __round__ method",
     "output_type": "error",
     "traceback": [
      "\u001b[1;31m---------------------------------------------------------------------------\u001b[0m",
      "\u001b[1;31mTypeError\u001b[0m                                 Traceback (most recent call last)",
      "Cell \u001b[1;32mIn[20], line 1\u001b[0m\n\u001b[1;32m----> 1\u001b[0m \u001b[38;5;28mround\u001b[39m(_,\u001b[38;5;241m2\u001b[39m)\n",
      "\u001b[1;31mTypeError\u001b[0m: type str doesn't define __round__ method"
     ]
    }
   ],
   "source": [
    "round(_,2)"
   ]
  },
  {
   "cell_type": "markdown",
   "id": "2098ae49-cb59-43a1-9b46-8002701d8891",
   "metadata": {},
   "source": [
    "Using String('' or \"\")"
   ]
  },
  {
   "cell_type": "code",
   "execution_count": 21,
   "id": "a6a7e027-d52d-4ca0-9ee5-bb8bca2515cb",
   "metadata": {},
   "outputs": [
    {
     "data": {
      "text/plain": [
       "'spam eggs'"
      ]
     },
     "execution_count": 21,
     "metadata": {},
     "output_type": "execute_result"
    }
   ],
   "source": [
    "'spam eggs' #using single quotes''"
   ]
  },
  {
   "cell_type": "code",
   "execution_count": 22,
   "id": "97c72a99-10a9-4d36-9174-5ce72e11c7a9",
   "metadata": {},
   "outputs": [
    {
     "data": {
      "text/plain": [
       "'Paris rabbit got your back:)!Yay!'"
      ]
     },
     "execution_count": 22,
     "metadata": {},
     "output_type": "execute_result"
    }
   ],
   "source": [
    "\"Paris rabbit got your back:)!Yay!\"  #using double quotes"
   ]
  },
  {
   "cell_type": "code",
   "execution_count": 23,
   "id": "a20f9de2-761b-4e56-9597-e9c351426699",
   "metadata": {},
   "outputs": [
    {
     "data": {
      "text/plain": [
       "'1993'"
      ]
     },
     "execution_count": 23,
     "metadata": {},
     "output_type": "execute_result"
    }
   ],
   "source": [
    "'1993'  #digits and numerals enclosed in quotes are also strings "
   ]
  },
  {
   "cell_type": "markdown",
   "id": "14eca925-2b47-4fa1-9e3b-1adcdef58f51",
   "metadata": {},
   "source": [
    "Some more Examples::"
   ]
  },
  {
   "cell_type": "code",
   "execution_count": 24,
   "id": "9460b659-3884-47ef-aaec-b2b806672e0e",
   "metadata": {},
   "outputs": [
    {
     "data": {
      "text/plain": [
       "\"doesn't\""
      ]
     },
     "execution_count": 24,
     "metadata": {},
     "output_type": "execute_result"
    }
   ],
   "source": [
    "'doesn\\'t'  #Using \\' to escape the single quote"
   ]
  },
  {
   "cell_type": "code",
   "execution_count": 27,
   "id": "0c10e9ea-90bc-40c3-9535-f2a929e4e5aa",
   "metadata": {},
   "outputs": [
    {
     "data": {
      "text/plain": [
       "'\"yes, \"they said. '"
      ]
     },
     "execution_count": 27,
     "metadata": {},
     "output_type": "execute_result"
    }
   ],
   "source": [
    "'\"yes, \"they said. '"
   ]
  },
  {
   "cell_type": "code",
   "execution_count": 28,
   "id": "30fcb5cc-e04d-4350-bcf8-60af3ee87b51",
   "metadata": {},
   "outputs": [
    {
     "data": {
      "text/plain": [
       "'\"yes,\" they said.'"
      ]
     },
     "execution_count": 28,
     "metadata": {},
     "output_type": "execute_result"
    }
   ],
   "source": [
    "\"\\\"yes,\\\" they said.\""
   ]
  },
  {
   "cell_type": "code",
   "execution_count": 29,
   "id": "7adc78c7-d366-4bc8-8218-69b121127064",
   "metadata": {},
   "outputs": [
    {
     "data": {
      "text/plain": [
       "'\"Isn\\t,\"they said.'"
      ]
     },
     "execution_count": 29,
     "metadata": {},
     "output_type": "execute_result"
    }
   ],
   "source": [
    "'\"Isn\\t,\"they said.'"
   ]
  },
  {
   "cell_type": "code",
   "execution_count": 34,
   "id": "49527b9e-f8df-4c0b-af45-5d9712b3282d",
   "metadata": {},
   "outputs": [
    {
     "data": {
      "text/plain": [
       "'First line.\\nSecond line.'"
      ]
     },
     "execution_count": 34,
     "metadata": {},
     "output_type": "execute_result"
    }
   ],
   "source": [
    "s = 'First line.\\nSecond line.'\n",
    "s"
   ]
  },
  {
   "cell_type": "code",
   "execution_count": 35,
   "id": "227e3b2b-682e-4731-9bbe-a6eb730912e7",
   "metadata": {},
   "outputs": [
    {
     "name": "stdout",
     "output_type": "stream",
     "text": [
      "First line.\n",
      "Second line.\n"
     ]
    }
   ],
   "source": [
    "print(s)"
   ]
  },
  {
   "cell_type": "code",
   "execution_count": 39,
   "id": "73d3dbdb-01c0-4f11-92a6-1fd2846e04a6",
   "metadata": {},
   "outputs": [
    {
     "name": "stdout",
     "output_type": "stream",
     "text": [
      "c:\\some\n",
      "ame\n"
     ]
    },
    {
     "name": "stderr",
     "output_type": "stream",
     "text": [
      "<>:1: SyntaxWarning: invalid escape sequence '\\s'\n",
      "<>:1: SyntaxWarning: invalid escape sequence '\\s'\n",
      "C:\\Users\\chett\\AppData\\Local\\Temp\\ipykernel_16768\\18304731.py:1: SyntaxWarning: invalid escape sequence '\\s'\n",
      "  print('c:\\some\\name')\n"
     ]
    }
   ],
   "source": [
    "print('c:\\some\\name')\n"
   ]
  },
  {
   "cell_type": "code",
   "execution_count": 41,
   "id": "dee541e9-eb41-4b47-9d72-f2f719e12fcb",
   "metadata": {},
   "outputs": [
    {
     "name": "stdout",
     "output_type": "stream",
     "text": [
      "c:\\some\\name\\Sow\n"
     ]
    }
   ],
   "source": [
    "print(r'c:\\some\\name\\Sow')\n"
   ]
  },
  {
   "cell_type": "code",
   "execution_count": 44,
   "id": "833ce5c9-956d-47b1-b3f3-1e1182f7d6b0",
   "metadata": {},
   "outputs": [
    {
     "name": "stdout",
     "output_type": "stream",
     "text": [
      "      ...\n",
      "      ...   -h\n",
      "      ...   -H hostname\n",
      "      ... \n"
     ]
    }
   ],
   "source": [
    "print(\"\"\"\\\n",
    "      ...\n",
    "      ...   -h\n",
    "      ...   -H hostname\n",
    "      ... \"\"\")"
   ]
  },
  {
   "cell_type": "code",
   "execution_count": 45,
   "id": "64fef5b5-6bd7-415b-8765-bec58f8e494e",
   "metadata": {},
   "outputs": [
    {
     "data": {
      "text/plain": [
       "'unununium'"
      ]
     },
     "execution_count": 45,
     "metadata": {},
     "output_type": "execute_result"
    }
   ],
   "source": [
    "3* 'un' +'ium'"
   ]
  },
  {
   "cell_type": "code",
   "execution_count": 46,
   "id": "d1a3abf9-cea9-41bd-ba3b-235b01a51496",
   "metadata": {},
   "outputs": [
    {
     "data": {
      "text/plain": [
       "'python'"
      ]
     },
     "execution_count": 46,
     "metadata": {},
     "output_type": "execute_result"
    }
   ],
   "source": [
    "'py''thon'"
   ]
  },
  {
   "cell_type": "code",
   "execution_count": 50,
   "id": "c260ddb0-b3f9-4a8f-a05f-ba106805b4bc",
   "metadata": {},
   "outputs": [
    {
     "data": {
      "text/plain": [
       "'Put several strings within paranthesisto have them joined together.'"
      ]
     },
     "execution_count": 50,
     "metadata": {},
     "output_type": "execute_result"
    }
   ],
   "source": [
    "text = ('Put several strings within paranthesis'\n",
    "       'to have them joined together.')\n",
    "text"
   ]
  },
  {
   "cell_type": "code",
   "execution_count": 55,
   "id": "776f2e5c-7b6b-4fc6-85d1-2a461c12c96d",
   "metadata": {},
   "outputs": [
    {
     "ename": "SyntaxError",
     "evalue": "invalid syntax (2247375812.py, line 2)",
     "output_type": "error",
     "traceback": [
      "\u001b[1;36m  Cell \u001b[1;32mIn[55], line 2\u001b[1;36m\u001b[0m\n\u001b[1;33m    prefix 'thon'\u001b[0m\n\u001b[1;37m           ^\u001b[0m\n\u001b[1;31mSyntaxError\u001b[0m\u001b[1;31m:\u001b[0m invalid syntax\n"
     ]
    }
   ],
   "source": [
    "prefix = 'Py'\n",
    "prefix 'thon'\n",
    "prefix"
   ]
  },
  {
   "cell_type": "code",
   "execution_count": 57,
   "id": "047150d9-45dc-41e6-a361-d429c6f1832c",
   "metadata": {},
   "outputs": [
    {
     "ename": "NameError",
     "evalue": "name 'prefix' is not defined",
     "output_type": "error",
     "traceback": [
      "\u001b[1;31m---------------------------------------------------------------------------\u001b[0m",
      "\u001b[1;31mNameError\u001b[0m                                 Traceback (most recent call last)",
      "Cell \u001b[1;32mIn[57], line 1\u001b[0m\n\u001b[1;32m----> 1\u001b[0m prefix \u001b[38;5;241m+\u001b[39m\u001b[38;5;124m'\u001b[39m\u001b[38;5;124mthon\u001b[39m\u001b[38;5;124m'\u001b[39m\n",
      "\u001b[1;31mNameError\u001b[0m: name 'prefix' is not defined"
     ]
    }
   ],
   "source": [
    "prefix +'thon'\n"
   ]
  },
  {
   "cell_type": "code",
   "execution_count": 58,
   "id": "81a5a1ac-24ed-4162-be27-efddd3b4696a",
   "metadata": {},
   "outputs": [
    {
     "data": {
      "text/plain": [
       "'P'"
      ]
     },
     "execution_count": 58,
     "metadata": {},
     "output_type": "execute_result"
    }
   ],
   "source": [
    "word = 'Python'\n",
    "word[0]"
   ]
  },
  {
   "cell_type": "code",
   "execution_count": 60,
   "id": "add3145b-b620-47d1-b058-7fcd4f23149e",
   "metadata": {},
   "outputs": [
    {
     "data": {
      "text/plain": [
       "'h'"
      ]
     },
     "execution_count": 60,
     "metadata": {},
     "output_type": "execute_result"
    }
   ],
   "source": [
    "word[3]"
   ]
  },
  {
   "cell_type": "code",
   "execution_count": 61,
   "id": "04463f34-2aa4-4948-96cd-55b88299f100",
   "metadata": {},
   "outputs": [
    {
     "data": {
      "text/plain": [
       "'n'"
      ]
     },
     "execution_count": 61,
     "metadata": {},
     "output_type": "execute_result"
    }
   ],
   "source": [
    "word[-1]"
   ]
  },
  {
   "cell_type": "code",
   "execution_count": 62,
   "id": "2ff7785a-8ba8-49b4-b601-408804368c1f",
   "metadata": {},
   "outputs": [
    {
     "data": {
      "text/plain": [
       "'o'"
      ]
     },
     "execution_count": 62,
     "metadata": {},
     "output_type": "execute_result"
    }
   ],
   "source": [
    "word[-2]"
   ]
  },
  {
   "cell_type": "code",
   "execution_count": 65,
   "id": "ea8227e2-3c10-498f-9132-f7e5efc733e2",
   "metadata": {},
   "outputs": [
    {
     "data": {
      "text/plain": [
       "'P'"
      ]
     },
     "execution_count": 65,
     "metadata": {},
     "output_type": "execute_result"
    }
   ],
   "source": [
    "word[-6]"
   ]
  },
  {
   "cell_type": "code",
   "execution_count": 66,
   "id": "28635481-4c06-4561-987d-d773377e020e",
   "metadata": {},
   "outputs": [
    {
     "data": {
      "text/plain": [
       "'Pyt'"
      ]
     },
     "execution_count": 66,
     "metadata": {},
     "output_type": "execute_result"
    }
   ],
   "source": [
    "word[:3]"
   ]
  },
  {
   "cell_type": "code",
   "execution_count": 67,
   "id": "75071953-d659-47f1-b64c-3e4e36f338af",
   "metadata": {},
   "outputs": [
    {
     "data": {
      "text/plain": [
       "'hon'"
      ]
     },
     "execution_count": 67,
     "metadata": {},
     "output_type": "execute_result"
    }
   ],
   "source": [
    "word[3:]"
   ]
  },
  {
   "cell_type": "code",
   "execution_count": 68,
   "id": "c9f3f2b6-86d1-4ed8-ab23-5f60d05a37af",
   "metadata": {},
   "outputs": [
    {
     "data": {
      "text/plain": [
       "'thon'"
      ]
     },
     "execution_count": 68,
     "metadata": {},
     "output_type": "execute_result"
    }
   ],
   "source": [
    "word[-4:]"
   ]
  },
  {
   "cell_type": "raw",
   "id": "61d165f2-1de0-4651-bfa2-7ae3ade3ee47",
   "metadata": {},
   "source": [
    "word[:-3]"
   ]
  },
  {
   "cell_type": "code",
   "execution_count": 69,
   "id": "762224db-86c3-43a3-ba9c-3e616570fd16",
   "metadata": {},
   "outputs": [
    {
     "data": {
      "text/plain": [
       "'Python'"
      ]
     },
     "execution_count": 69,
     "metadata": {},
     "output_type": "execute_result"
    }
   ],
   "source": [
    "word[:2]+word[2:]"
   ]
  },
  {
   "cell_type": "code",
   "execution_count": 70,
   "id": "11b4740e-c8cf-42b1-950a-6edf6b49156a",
   "metadata": {},
   "outputs": [
    {
     "data": {
      "text/plain": [
       "'Python'"
      ]
     },
     "execution_count": 70,
     "metadata": {},
     "output_type": "execute_result"
    }
   ],
   "source": [
    "word[:4]+word[4:]"
   ]
  },
  {
   "cell_type": "code",
   "execution_count": 71,
   "id": "1b484815-bb5d-4106-9eae-16db2ddf8083",
   "metadata": {},
   "outputs": [
    {
     "ename": "IndexError",
     "evalue": "string index out of range",
     "output_type": "error",
     "traceback": [
      "\u001b[1;31m---------------------------------------------------------------------------\u001b[0m",
      "\u001b[1;31mIndexError\u001b[0m                                Traceback (most recent call last)",
      "Cell \u001b[1;32mIn[71], line 1\u001b[0m\n\u001b[1;32m----> 1\u001b[0m word[\u001b[38;5;241m40\u001b[39m]\n",
      "\u001b[1;31mIndexError\u001b[0m: string index out of range"
     ]
    }
   ],
   "source": [
    "word[40]"
   ]
  },
  {
   "cell_type": "code",
   "execution_count": 73,
   "id": "a62e48a8-9bf1-4fba-96f0-b671513ac927",
   "metadata": {},
   "outputs": [
    {
     "data": {
      "text/plain": [
       "'n'"
      ]
     },
     "execution_count": 73,
     "metadata": {},
     "output_type": "execute_result"
    }
   ],
   "source": [
    "word[5:40]"
   ]
  },
  {
   "cell_type": "code",
   "execution_count": 74,
   "id": "9fb329e5-f42b-427b-8a79-04f702704ad9",
   "metadata": {},
   "outputs": [
    {
     "data": {
      "text/plain": [
       "''"
      ]
     },
     "execution_count": 74,
     "metadata": {},
     "output_type": "execute_result"
    }
   ],
   "source": [
    "word[38:]"
   ]
  },
  {
   "cell_type": "code",
   "execution_count": 75,
   "id": "707f2fb1-92ec-4d46-a6f0-036b9c151b21",
   "metadata": {},
   "outputs": [
    {
     "ename": "SyntaxError",
     "evalue": "unterminated string literal (detected at line 1) (2543420911.py, line 1)",
     "output_type": "error",
     "traceback": [
      "\u001b[1;36m  Cell \u001b[1;32mIn[75], line 1\u001b[1;36m\u001b[0m\n\u001b[1;33m    word[0] = j'\u001b[0m\n\u001b[1;37m               ^\u001b[0m\n\u001b[1;31mSyntaxError\u001b[0m\u001b[1;31m:\u001b[0m unterminated string literal (detected at line 1)\n"
     ]
    }
   ],
   "source": [
    "word[0] = j'"
   ]
  },
  {
   "cell_type": "code",
   "execution_count": 77,
   "id": "d25e7dbc-3684-446a-adf6-837e3afc1fee",
   "metadata": {},
   "outputs": [
    {
     "ename": "SyntaxError",
     "evalue": "unterminated string literal (detected at line 1) (1714848168.py, line 1)",
     "output_type": "error",
     "traceback": [
      "\u001b[1;36m  Cell \u001b[1;32mIn[77], line 1\u001b[1;36m\u001b[0m\n\u001b[1;33m    word[2: = 'py]\u001b[0m\n\u001b[1;37m              ^\u001b[0m\n\u001b[1;31mSyntaxError\u001b[0m\u001b[1;31m:\u001b[0m unterminated string literal (detected at line 1)\n"
     ]
    }
   ],
   "source": [
    "word[2: = 'py]"
   ]
  },
  {
   "cell_type": "code",
   "execution_count": 79,
   "id": "bbc0e599-f549-48c5-9ac7-15b473af6691",
   "metadata": {},
   "outputs": [
    {
     "data": {
      "text/plain": [
       "'jython'"
      ]
     },
     "execution_count": 79,
     "metadata": {},
     "output_type": "execute_result"
    }
   ],
   "source": [
    "'j'+word[1:] "
   ]
  },
  {
   "cell_type": "code",
   "execution_count": 80,
   "id": "4e3dcb9b-1c75-4108-9746-2472225bfc6c",
   "metadata": {},
   "outputs": [
    {
     "data": {
      "text/plain": [
       "'Pytpy'"
      ]
     },
     "execution_count": 80,
     "metadata": {},
     "output_type": "execute_result"
    }
   ],
   "source": [
    "word[:3]+'py'"
   ]
  },
  {
   "cell_type": "markdown",
   "id": "0ff62c2e-f0d9-4666-a4f4-10f84564985a",
   "metadata": {},
   "source": [
    "Using len()"
   ]
  },
  {
   "cell_type": "code",
   "execution_count": 82,
   "id": "f9729a30-22d4-4a82-b009-60490b760c1f",
   "metadata": {},
   "outputs": [
    {
     "data": {
      "text/plain": [
       "19"
      ]
     },
     "execution_count": 82,
     "metadata": {},
     "output_type": "execute_result"
    }
   ],
   "source": [
    "s = 'my name is sowjanya'\n",
    "len(s)"
   ]
  },
  {
   "cell_type": "markdown",
   "id": "2803dd6b-e8fa-4c61-b6c6-d0a17993ce41",
   "metadata": {},
   "source": [
    "LISTS"
   ]
  },
  {
   "cell_type": "code",
   "execution_count": 87,
   "id": "cbd94e41-3c15-4ae4-baa3-b5ee55d0c3b8",
   "metadata": {},
   "outputs": [
    {
     "data": {
      "text/plain": [
       "[2, 3, 5, 7, 9]"
      ]
     },
     "execution_count": 87,
     "metadata": {},
     "output_type": "execute_result"
    }
   ],
   "source": [
    "square=[2,3,5,7,9]\n",
    "square"
   ]
  },
  {
   "cell_type": "code",
   "execution_count": 90,
   "id": "7699ed57-786d-439a-98cf-80b8bd971fbb",
   "metadata": {},
   "outputs": [
    {
     "data": {
      "text/plain": [
       "2"
      ]
     },
     "execution_count": 90,
     "metadata": {},
     "output_type": "execute_result"
    }
   ],
   "source": [
    "square[0] ## indexing returns the item"
   ]
  },
  {
   "cell_type": "code",
   "execution_count": 92,
   "id": "b9ec6047-5cbf-4188-b102-e3beec1da5a3",
   "metadata": {},
   "outputs": [
    {
     "data": {
      "text/plain": [
       "7"
      ]
     },
     "execution_count": 92,
     "metadata": {},
     "output_type": "execute_result"
    }
   ],
   "source": [
    "square[3]"
   ]
  },
  {
   "cell_type": "code",
   "execution_count": 93,
   "id": "459a3a28-d00d-4717-9206-85ecb68dbe28",
   "metadata": {},
   "outputs": [
    {
     "data": {
      "text/plain": [
       "3"
      ]
     },
     "execution_count": 93,
     "metadata": {},
     "output_type": "execute_result"
    }
   ],
   "source": [
    "square[-4]"
   ]
  },
  {
   "cell_type": "code",
   "execution_count": 94,
   "id": "82cea84f-5948-47a7-a7d7-93029e0a006a",
   "metadata": {},
   "outputs": [
    {
     "data": {
      "text/plain": [
       "[7, 9]"
      ]
     },
     "execution_count": 94,
     "metadata": {},
     "output_type": "execute_result"
    }
   ],
   "source": [
    "square[-2:] ## slicing  returns a new list"
   ]
  },
  {
   "cell_type": "markdown",
   "id": "b94a189c-bb12-499b-8e4b-2ef9b5964eae",
   "metadata": {},
   "source": [
    "LISTS also support like operations like concatenation::"
   ]
  },
  {
   "cell_type": "code",
   "execution_count": 95,
   "id": "cbe7c593-97e3-46b3-86f6-cda3ce268e1f",
   "metadata": {},
   "outputs": [
    {
     "data": {
      "text/plain": [
       "[2, 3, 5, 7, 9, 36, 49, 64, 81, 100]"
      ]
     },
     "execution_count": 95,
     "metadata": {},
     "output_type": "execute_result"
    }
   ],
   "source": [
    "square + [36,49,64,81,100]"
   ]
  },
  {
   "cell_type": "markdown",
   "id": "f40b5c07-6d3d-490c-bda3-0125938b3e51",
   "metadata": {},
   "source": [
    "IMP: Unlike strings which are Immutable and Lists are a Mutable types i.e. it is poosible to change their content"
   ]
  },
  {
   "cell_type": "code",
   "execution_count": 96,
   "id": "49082953-bb98-4ed1-b8a6-55d6286ad084",
   "metadata": {},
   "outputs": [
    {
     "data": {
      "text/plain": [
       "64"
      ]
     },
     "execution_count": 96,
     "metadata": {},
     "output_type": "execute_result"
    }
   ],
   "source": [
    "cubes= [1,8,27,64,125]\n",
    "4**3"
   ]
  },
  {
   "cell_type": "code",
   "execution_count": 97,
   "id": "06479da6-bc2c-404c-9f3f-43ac61132d56",
   "metadata": {},
   "outputs": [
    {
     "data": {
      "text/plain": [
       "[1, 8, 27, 64, 125]"
      ]
     },
     "execution_count": 97,
     "metadata": {},
     "output_type": "execute_result"
    }
   ],
   "source": [
    "cubes[3]=64\n",
    "cubes"
   ]
  },
  {
   "cell_type": "markdown",
   "id": "5cd8a478-9505-4caa-aea5-de738cdda2dc",
   "metadata": {},
   "source": [
    "Using list.append"
   ]
  },
  {
   "cell_type": "code",
   "execution_count": 98,
   "id": "7f8df369-4eef-4601-8702-88857dd67e7d",
   "metadata": {},
   "outputs": [
    {
     "data": {
      "text/plain": [
       "[1, 8, 27, 64, 125, 216, 343]"
      ]
     },
     "execution_count": 98,
     "metadata": {},
     "output_type": "execute_result"
    }
   ],
   "source": [
    "cubes.append(216)  #add the cube of 6\n",
    "cubes.append(7**3)  #add the cube of 7\n",
    "cubes"
   ]
  },
  {
   "cell_type": "code",
   "execution_count": 105,
   "id": "453184e1-f426-4a6b-8c7d-39732fcc7021",
   "metadata": {},
   "outputs": [
    {
     "data": {
      "text/plain": [
       "True"
      ]
     },
     "execution_count": 105,
     "metadata": {},
     "output_type": "execute_result"
    }
   ],
   "source": [
    "rgb = [\"red\", \"green\", \"blue\"]\n",
    "rgba = rgb\n",
    "id(rgb)==id(rgba)"
   ]
  },
  {
   "cell_type": "code",
   "execution_count": 110,
   "id": "293baf2f-8957-41aa-9b54-e9ee0f0e7fbb",
   "metadata": {},
   "outputs": [
    {
     "data": {
      "text/plain": [
       "['red', 'green', 'blue', 'Alph', 'Alph', 'Alph', 'Alph', 'alph']"
      ]
     },
     "execution_count": 110,
     "metadata": {},
     "output_type": "execute_result"
    }
   ],
   "source": [
    "rgb.append(\"alph\")\n",
    "rgba"
   ]
  },
  {
   "cell_type": "code",
   "execution_count": 112,
   "id": "642a8dcd-1d21-4030-80b1-8e724e851532",
   "metadata": {},
   "outputs": [
    {
     "data": {
      "text/plain": [
       "['red', 'green', 'blue', 'Alph', 'Alph', 'Alph', 'Alph', 'Alph']"
      ]
     },
     "execution_count": 112,
     "metadata": {},
     "output_type": "execute_result"
    }
   ],
   "source": [
    "correct_rgba = rgba[:]\n",
    "correct_rgba[-1] = \"Alph\"\n",
    "correct_rgba"
   ]
  },
  {
   "cell_type": "code",
   "execution_count": 113,
   "id": "2b32a2f0-d6db-4e7b-a0fc-236833efd4ee",
   "metadata": {},
   "outputs": [
    {
     "data": {
      "text/plain": [
       "['red', 'green', 'blue', 'Alph', 'Alph', 'Alph', 'Alph', 'alph']"
      ]
     },
     "execution_count": 113,
     "metadata": {},
     "output_type": "execute_result"
    }
   ],
   "source": [
    "rgba"
   ]
  },
  {
   "cell_type": "code",
   "execution_count": 114,
   "id": "58e0f747-0aa7-4d86-8bd0-e3326f58e100",
   "metadata": {},
   "outputs": [
    {
     "data": {
      "text/plain": [
       "['a', 'b', 'c', 'd', 'e', 'f', 'g']"
      ]
     },
     "execution_count": 114,
     "metadata": {},
     "output_type": "execute_result"
    }
   ],
   "source": [
    "letters=['a','b','c','d','e','f','g']\n",
    "letters"
   ]
  },
  {
   "cell_type": "markdown",
   "id": "d51f4670-7200-41c4-8061-d6825e59ddd6",
   "metadata": {},
   "source": [
    "REPLACEMENT OF NEW VALUES"
   ]
  },
  {
   "cell_type": "code",
   "execution_count": 115,
   "id": "43d1c40c-a61c-4a5f-b436-ac54b23da280",
   "metadata": {},
   "outputs": [
    {
     "data": {
      "text/plain": [
       "['a', 'b', 'C', 'D', 'E', 'f', 'g']"
      ]
     },
     "execution_count": 115,
     "metadata": {},
     "output_type": "execute_result"
    }
   ],
   "source": [
    "letters[2:5] = ['C','D','E']\n",
    "letters"
   ]
  },
  {
   "cell_type": "markdown",
   "id": "f31fe51a-5736-4f3f-aa0a-5e44c9ccc7ab",
   "metadata": {},
   "source": [
    "Remove the above C,D,E"
   ]
  },
  {
   "cell_type": "code",
   "execution_count": 116,
   "id": "e5b4df0e-03ed-4f08-a8de-947af9f3b4ee",
   "metadata": {},
   "outputs": [
    {
     "data": {
      "text/plain": [
       "['a', 'b', 'f', 'g']"
      ]
     },
     "execution_count": 116,
     "metadata": {},
     "output_type": "execute_result"
    }
   ],
   "source": [
    "letters[2:5] = []\n",
    "letters"
   ]
  },
  {
   "cell_type": "markdown",
   "id": "73c8b037-8723-4096-b571-dd381bfa019a",
   "metadata": {},
   "source": [
    "Now clear the list by replacing all the elements with an epty list "
   ]
  },
  {
   "cell_type": "code",
   "execution_count": 117,
   "id": "07529904-63a3-499a-9763-9697559f3113",
   "metadata": {},
   "outputs": [
    {
     "data": {
      "text/plain": [
       "[]"
      ]
     },
     "execution_count": 117,
     "metadata": {},
     "output_type": "execute_result"
    }
   ],
   "source": [
    "letters[:]= []\n",
    "letters"
   ]
  },
  {
   "cell_type": "markdown",
   "id": "3004e8ae-9cfb-46b9-a340-77ddf97cbcb8",
   "metadata": {},
   "source": [
    "USING THE LENGTH:: lentgh is the BUilt-in function, it is indicates as len()\n"
   ]
  },
  {
   "cell_type": "code",
   "execution_count": 118,
   "id": "cda980fb-3096-4673-9145-b7afc62e9848",
   "metadata": {},
   "outputs": [
    {
     "data": {
      "text/plain": [
       "4"
      ]
     },
     "execution_count": 118,
     "metadata": {},
     "output_type": "execute_result"
    }
   ],
   "source": [
    "letters = ['a', 'b', 'c', 'd']\n",
    "len(letters)"
   ]
  },
  {
   "cell_type": "markdown",
   "id": "8f83e18d-c83b-40d5-9f12-c90e82ddc446",
   "metadata": {},
   "source": [
    "USING THE NEST LISTS::"
   ]
  },
  {
   "cell_type": "code",
   "execution_count": 119,
   "id": "8e56ae09-e89f-403d-8fe2-2aec44ac42de",
   "metadata": {},
   "outputs": [
    {
     "data": {
      "text/plain": [
       "[['a', 'b', 'c', 'd'], [1, 2, 3]]"
      ]
     },
     "execution_count": 119,
     "metadata": {},
     "output_type": "execute_result"
    }
   ],
   "source": [
    "a = ['a','b','c','d']\n",
    "n = [1,2,3]\n",
    "x = [a,n]\n",
    "x"
   ]
  },
  {
   "cell_type": "code",
   "execution_count": 120,
   "id": "53d48dc4-3b07-438f-8c42-031c9f12dc99",
   "metadata": {},
   "outputs": [
    {
     "data": {
      "text/plain": [
       "['a', 'b', 'c', 'd']"
      ]
     },
     "execution_count": 120,
     "metadata": {},
     "output_type": "execute_result"
    }
   ],
   "source": [
    "x[0]"
   ]
  },
  {
   "cell_type": "code",
   "execution_count": 122,
   "id": "ae99f730-da24-4367-9ad7-995981fe2adb",
   "metadata": {},
   "outputs": [
    {
     "data": {
      "text/plain": [
       "'b'"
      ]
     },
     "execution_count": 122,
     "metadata": {},
     "output_type": "execute_result"
    }
   ],
   "source": [
    "x[0][1]"
   ]
  },
  {
   "cell_type": "code",
   "execution_count": 123,
   "id": "42e0c298-ab57-483e-9131-bec16d71904f",
   "metadata": {},
   "outputs": [
    {
     "data": {
      "text/plain": [
       "[1, 2, 3]"
      ]
     },
     "execution_count": 123,
     "metadata": {},
     "output_type": "execute_result"
    }
   ],
   "source": [
    "x[1]"
   ]
  },
  {
   "cell_type": "code",
   "execution_count": 125,
   "id": "6ccc0902-8713-4df2-ba63-a30ec54abd5c",
   "metadata": {},
   "outputs": [
    {
     "data": {
      "text/plain": [
       "[['a', 'b', 'c', 'd'], [1, 2, 3]]"
      ]
     },
     "execution_count": 125,
     "metadata": {},
     "output_type": "execute_result"
    }
   ],
   "source": [
    "x"
   ]
  },
  {
   "cell_type": "markdown",
   "id": "1e9a254d-b904-4101-b11b-4479a2df1134",
   "metadata": {},
   "source": [
    "USING THE FIBONACCI SERIES::\n",
    "\n",
    "ex:: Sum of two variables defines the next"
   ]
  },
  {
   "cell_type": "code",
   "execution_count": 126,
   "id": "57a04e6b-1615-4a0b-8d63-ea6322f81054",
   "metadata": {},
   "outputs": [
    {
     "name": "stdout",
     "output_type": "stream",
     "text": [
      "0\n",
      "1\n",
      "1\n",
      "2\n",
      "3\n",
      "5\n",
      "8\n"
     ]
    }
   ],
   "source": [
    "a,b = 0,1\n",
    "while a<10:\n",
    "    print(a)\n",
    "    a,b = b, a+b"
   ]
  },
  {
   "cell_type": "code",
   "execution_count": 128,
   "id": "d8654789-0002-4934-b74e-c779bc43e993",
   "metadata": {},
   "outputs": [
    {
     "name": "stdout",
     "output_type": "stream",
     "text": [
      "the value i is 65\n"
     ]
    }
   ],
   "source": [
    "i = 8*8\n",
    "print('the value i is',i +1 ) "
   ]
  },
  {
   "cell_type": "code",
   "execution_count": 129,
   "id": "5f491e49-c66e-4e88-bee0-5e15b173a8db",
   "metadata": {},
   "outputs": [
    {
     "name": "stdout",
     "output_type": "stream",
     "text": [
      "0,1,1,2,3,5,8,13,21,34,55,89,"
     ]
    }
   ],
   "source": [
    "a,b = 0,1\n",
    "while a < 100:\n",
    "    print(a, end=',')\n",
    "    a,b = b,a+b"
   ]
  }
 ],
 "metadata": {
  "kernelspec": {
   "display_name": "Python [conda env:base] *",
   "language": "python",
   "name": "conda-base-py"
  },
  "language_info": {
   "codemirror_mode": {
    "name": "ipython",
    "version": 3
   },
   "file_extension": ".py",
   "mimetype": "text/x-python",
   "name": "python",
   "nbconvert_exporter": "python",
   "pygments_lexer": "ipython3",
   "version": "3.12.7"
  }
 },
 "nbformat": 4,
 "nbformat_minor": 5
}
